{
 "cells": [
  {
   "cell_type": "code",
   "execution_count": null,
   "metadata": {},
   "outputs": [],
   "source": [
    "############################################\n",
    "# MSDS 442: AI Agent Design and Development\n",
    "# Spring '25\n",
    "# Dr. Bader\n",
    "#\n",
    "# Discussion 1 - OpenAI client\n",
    "# \n",
    "# Dan Balette / Special Thanks to Kevin Geidel for the base code\n",
    "############################################\n",
    "\n",
    "from dotenv import load_dotenv\n",
    "load_dotenv()\n",
    "\n",
    "from openai import OpenAI\n",
    "client = OpenAI()\n",
    "\n",
    "completion = client.chat.completions.create(\n",
    "    model=\"gpt-4o-mini\",\n",
    "    messages=[{\n",
    "        \"role\": \"user\",\n",
    "        \"content\": \"I want to develop an AI Agent for my website dbalette-ai-finance. I want your help in deciding which software framework to use. I have the following options: LangChain, LangGraph, AutoGen, CrewAI, and Baby AGI. Compare/contrast them in a table format for the output.\"\n",
    "    }]\n",
    ")\n",
    "\n",
    "response = completion.choices[0].message.content\n"
   ]
  },
  {
   "cell_type": "code",
   "execution_count": 12,
   "metadata": {},
   "outputs": [
    {
     "name": "stdout",
     "output_type": "stream",
     "text": [
      "Below is a comparison of the software frameworks you mentioned for developing an AI agent for your website `dbalette-ai-finance`. The table outlines some key attributes, pros, and cons of each framework.\n",
      "\n",
      "| Framework      | Overview                                               | Pros                                                        | Cons                                                        |\n",
      "|----------------|-------------------------------------------------------|-------------------------------------------------------------|-------------------------------------------------------------|\n",
      "| **LangChain**   | A framework for developing applications that use language models and chains them together. | - Strong modularity<br>- Great for multi-step workflows<br>- Many integrations available | - Can have a steeper learning curve for beginners           |\n",
      "| **LangGraph**   | Focuses on constructing applications using knowledge graphs and language models. | - Suited for reasoning tasks<br>- Visual representation of relations<br>- Flexible for complex queries | - May require familiarity with graph theory<br>- Niche focus may limit versatility |\n",
      "| **AutoGen**     | Designed for generating applications and auto-coding using language models. | - Quick prototyping<br>- Generates boilerplate code<br>- Useful for automation | - Less control over generated code<br>- Dependence on the quality of generated outcomes |\n",
      "| **CrewAI**      | Encourages team-based AI application development. Integrates collaboration tools. | - Strong focus on collaboration<br>- Ideal for team-based projects<br>- Good for shared resources | - Collaboration features may be overkill for single developers<br>- Can be complex to set up |\n",
      "| **Baby AGI**    | Aims for recursive self-improvement in AI agents and task management. | - Innovative approach to self-improvement<br>- Focus on long-term goals<br>- Good for iterative projects | - Still experimental<br>- Potentially less stable<br>- May require extensive tuning |\n",
      "\n",
      "### Summary:\n",
      "\n",
      "- **LangChain** is a good choice for complex applications involving multiple steps and workflows.\n",
      "- **LangGraph** is more suited if your project will benefit from a knowledge graph and reasoning tasks.\n",
      "- **AutoGen** is ideal for rapid prototyping but may sacrifice some customizability.\n",
      "- **CrewAI** shines in collaborative environments where teams need to work together on AI applications.\n",
      "- **Baby AGI** takes a unique approach toward self-improving agents but should be approached cautiously due to its experimental nature.\n",
      "\n",
      "### Recommendation:\n",
      "Consider the specific requirements of your `dbalette-ai-finance` application, including the need for collaboration, level of complexity, and whether rapid prototyping is essential. Choosing a framework ultimately depends on your project goals, development team dynamics, and expertise levels.\n"
     ]
    }
   ],
   "source": [
    "print(response)"
   ]
  },
  {
   "cell_type": "code",
   "execution_count": null,
   "metadata": {},
   "outputs": [],
   "source": []
  }
 ],
 "metadata": {
  "kernelspec": {
   "display_name": "Python (venv)",
   "language": "python",
   "name": "venv"
  },
  "language_info": {
   "codemirror_mode": {
    "name": "ipython",
    "version": 3
   },
   "file_extension": ".py",
   "mimetype": "text/x-python",
   "name": "python",
   "nbconvert_exporter": "python",
   "pygments_lexer": "ipython3",
   "version": "3.12.7"
  }
 },
 "nbformat": 4,
 "nbformat_minor": 4
}
